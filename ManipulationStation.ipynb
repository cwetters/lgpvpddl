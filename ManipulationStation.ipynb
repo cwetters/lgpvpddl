{
 "cells": [
  {
   "cell_type": "code",
   "execution_count": 1,
   "metadata": {},
   "outputs": [],
   "source": [
    "import sys\n",
    "sys.path.append('../ry')\n",
    "#sys.path.append('/home/christina/rai-python/env/lib/python3.5/site-packages')\n",
    "#sys.path.append('/home/christina/rai-python/env/lib/python3.5/site-packages/IPython/extensions')\n",
    "#sys.path.append('/home/christina/.ipython')\n",
    "#print (sys.path)\n",
    "from libry import *\n",
    "from numpy import *"
   ]
  },
  {
   "cell_type": "code",
   "execution_count": 2,
   "metadata": {},
   "outputs": [],
   "source": [
    "K = Config()\n",
    "K.addFile(\"../rai-robotModels/kuka_drake/setup.g\")\n",
    "K.addFile(\"../models/mainipulationStation.g\")\n",
    "\n",
    "K.addFrame(\"obj0\", \"tabletop\", \"type:ssBox size:[.06 .05 .10 .02] color:[1. 0. 0.], contact, logical={ object }, joint:rigid, Q:<t(-0.15 -0.2 0.07)>\" )\n",
    "K.addFrame(\"obj1\", \"tabletop\", \"type:ssBox size:[.1 .1 .2 .02] color:[1. 0. 0.], contact, logical={ object }, joint:rigid, Q:<t(-0.3 .2 .15)>\" )\n",
    "K.addFrame(\"obj2\", \"tabletop\", \"type:ssBox size:[.1 .1 .2 .02] color:[1. 0. 0.], contact, logical={ object }, joint:rigid, Q:<t(-0.4 .4 .15)>\" )\n",
    "K.addFrame(\"obj3\", \"tabletop\", \"type:ssBox size:[.1 .1 .2 .02] color:[1. 0. 0.], contact, logical={ object }, joint:rigid, Q:<t(-0.1 0 .15)>\" )\n",
    "K.addFrame(\"obj4\", \"tabletop\", \"type:ssBox size:[.1 .1 .2 .02] color:[1. 0. 0.], contact, logical={ object }, joint:rigid, Q:<t(-0.4 -.15 .15)>\" )\n",
    "\n",
    "#K.addFrame(\"obj3\", \"tabletop\", \"type:ssBox size:[.1 .1 .2 .02] color:[1. 0. 0.], contact, logical={ object }, joint:rigid, Q:<t(-0.5 .6.15)>\" )\n",
    "#K.addFrame(\"tray\", \"shelfLower\", \"type:ssBox size:[.15 .15 .04 .02] color:[0. 1. 0.], logical={ table }, Q:<t(-0.1 0 .07)>\" );\n",
    "#K.addFrame(\"\", \"tray\", \"type:ssBox size:[.27 .27 .04 .02] color:[0. 1. 0.]\" )\n",
    "q = K.getJointState()\n",
    "q = [0,0,0,-1.75,0,1,0,0.05]\n",
    "K.setJointState(q)\n",
    "V = K.view()"
   ]
  },
  {
   "cell_type": "code",
   "execution_count": 3,
   "metadata": {
    "scrolled": true
   },
   "outputs": [
    {
     "data": {
      "text/plain": [
       "{'boundsConstraints': [0.0, 0.0, 0.0, 0.0, 0.0],\n",
       " 'boundsCost': [0.0, 0.0, 0.0, 0.0, 0.0],\n",
       " 'boundsFeasible': [1, 1, 1, 1, 1],\n",
       " 'decision': '<ROOT>',\n",
       " 'path': '',\n",
       " 'state': ' STATE_0(START_STATE) {(gripper endeff), (table bottom), (table shelfLower), (table shelfUpper), (object obj0), (object obj1), (object obj2), (object obj3), (object obj4), (partOf tabletop upperRightPost), (partOf tabletop upperLeftPost), (partOf tabletop lowerLeftPost), (partOf tabletop lowerRightPost), (partOf tabletop topLeftBar), (partOf tabletop topMiddleBar), (partOf tabletop topRightBar), (partOf tabletop topBackBar), (partOf tabletop topFrontBar), (partOf tabletop rightWall), (partOf tabletop leftWall), (partOf tabletop bottom), (partOf tabletop top), (partOf tabletop shelfLower), (partOf tabletop shelfUpper), (partOf upperRightPost tabletop), (partOf upperRightPost upperLeftPost), (partOf upperRightPost lowerLeftPost), (partOf upperRightPost lowerRightPost), (partOf upperRightPost topLeftBar), (partOf upperRightPost topMiddleBar), (partOf upperRightPost topRightBar), (partOf upperRightPost topBackBar), (partOf upperRightPost topFrontBar), (partOf upperRightPost rightWall), (partOf upperRightPost leftWall), (partOf upperRightPost bottom), (partOf upperRightPost top), (partOf upperRightPost shelfLower), (partOf upperRightPost shelfUpper), (partOf upperLeftPost tabletop), (partOf upperLeftPost upperRightPost), (partOf upperLeftPost lowerLeftPost), (partOf upperLeftPost lowerRightPost), (partOf upperLeftPost topLeftBar), (partOf upperLeftPost topMiddleBar), (partOf upperLeftPost topRightBar), (partOf upperLeftPost topBackBar), (partOf upperLeftPost topFrontBar), (partOf upperLeftPost rightWall), (partOf upperLeftPost leftWall), (partOf upperLeftPost bottom), (partOf upperLeftPost top), (partOf upperLeftPost shelfLower), (partOf upperLeftPost shelfUpper), (partOf lowerLeftPost tabletop), (partOf lowerLeftPost upperRightPost), (partOf lowerLeftPost upperLeftPost), (partOf lowerLeftPost lowerRightPost), (partOf lowerLeftPost topLeftBar), (partOf lowerLeftPost topMiddleBar), (partOf lowerLeftPost topRightBar), (partOf lowerLeftPost topBackBar), (partOf lowerLeftPost topFrontBar), (partOf lowerLeftPost rightWall), (partOf lowerLeftPost leftWall), (partOf lowerLeftPost bottom), (partOf lowerLeftPost top), (partOf lowerLeftPost shelfLower), (partOf lowerLeftPost shelfUpper), (partOf lowerRightPost tabletop), (partOf lowerRightPost upperRightPost), (partOf lowerRightPost upperLeftPost), (partOf lowerRightPost lowerLeftPost), (partOf lowerRightPost topLeftBar), (partOf lowerRightPost topMiddleBar), (partOf lowerRightPost topRightBar), (partOf lowerRightPost topBackBar), (partOf lowerRightPost topFrontBar), (partOf lowerRightPost rightWall), (partOf lowerRightPost leftWall), (partOf lowerRightPost bottom), (partOf lowerRightPost top), (partOf lowerRightPost shelfLower), (partOf lowerRightPost shelfUpper), (partOf topLeftBar tabletop), (partOf topLeftBar upperRightPost), (partOf topLeftBar upperLeftPost), (partOf topLeftBar lowerLeftPost), (partOf topLeftBar lowerRightPost), (partOf topLeftBar topMiddleBar), (partOf topLeftBar topRightBar), (partOf topLeftBar topBackBar), (partOf topLeftBar topFrontBar), (partOf topLeftBar rightWall), (partOf topLeftBar leftWall), (partOf topLeftBar bottom), (partOf topLeftBar top), (partOf topLeftBar shelfLower), (partOf topLeftBar shelfUpper), (partOf topMiddleBar tabletop), (partOf topMiddleBar upperRightPost), (partOf topMiddleBar upperLeftPost), (partOf topMiddleBar lowerLeftPost), (partOf topMiddleBar lowerRightPost), (partOf topMiddleBar topLeftBar), (partOf topMiddleBar topRightBar), (partOf topMiddleBar topBackBar), (partOf topMiddleBar topFrontBar), (partOf topMiddleBar rightWall), (partOf topMiddleBar leftWall), (partOf topMiddleBar bottom), (partOf topMiddleBar top), (partOf topMiddleBar shelfLower), (partOf topMiddleBar shelfUpper), (partOf topRightBar tabletop), (partOf topRightBar upperRightPost), (partOf topRightBar upperLeftPost), (partOf topRightBar lowerLeftPost), (partOf topRightBar lowerRightPost), (partOf topRightBar topLeftBar), (partOf topRightBar topMiddleBar), (partOf topRightBar topBackBar), (partOf topRightBar topFrontBar), (partOf topRightBar rightWall), (partOf topRightBar leftWall), (partOf topRightBar bottom), (partOf topRightBar top), (partOf topRightBar shelfLower), (partOf topRightBar shelfUpper), (partOf topBackBar tabletop), (partOf topBackBar upperRightPost), (partOf topBackBar upperLeftPost), (partOf topBackBar lowerLeftPost), (partOf topBackBar lowerRightPost), (partOf topBackBar topLeftBar), (partOf topBackBar topMiddleBar), (partOf topBackBar topRightBar), (partOf topBackBar topFrontBar), (partOf topBackBar rightWall), (partOf topBackBar leftWall), (partOf topBackBar bottom), (partOf topBackBar top), (partOf topBackBar shelfLower), (partOf topBackBar shelfUpper), (partOf topFrontBar tabletop), (partOf topFrontBar upperRightPost), (partOf topFrontBar upperLeftPost), (partOf topFrontBar lowerLeftPost), (partOf topFrontBar lowerRightPost), (partOf topFrontBar topLeftBar), (partOf topFrontBar topMiddleBar), (partOf topFrontBar topRightBar), (partOf topFrontBar topBackBar), (partOf topFrontBar rightWall), (partOf topFrontBar leftWall), (partOf topFrontBar bottom), (partOf topFrontBar top), (partOf topFrontBar shelfLower), (partOf topFrontBar shelfUpper), (partOf rightWall tabletop), (partOf rightWall upperRightPost), (partOf rightWall upperLeftPost), (partOf rightWall lowerLeftPost), (partOf rightWall lowerRightPost), (partOf rightWall topLeftBar), (partOf rightWall topMiddleBar), (partOf rightWall topRightBar), (partOf rightWall topBackBar), (partOf rightWall topFrontBar), (partOf rightWall leftWall), (partOf rightWall bottom), (partOf rightWall top), (partOf rightWall shelfLower), (partOf rightWall shelfUpper), (partOf leftWall tabletop), (partOf leftWall upperRightPost), (partOf leftWall upperLeftPost), (partOf leftWall lowerLeftPost), (partOf leftWall lowerRightPost), (partOf leftWall topLeftBar), (partOf leftWall topMiddleBar), (partOf leftWall topRightBar), (partOf leftWall topBackBar), (partOf leftWall topFrontBar), (partOf leftWall rightWall), (partOf leftWall bottom), (partOf leftWall top), (partOf leftWall shelfLower), (partOf leftWall shelfUpper), (partOf bottom tabletop), (partOf bottom upperRightPost), (partOf bottom upperLeftPost), (partOf bottom lowerLeftPost), (partOf bottom lowerRightPost), (partOf bottom topLeftBar), (partOf bottom topMiddleBar), (partOf bottom topRightBar), (partOf bottom topBackBar), (partOf bottom topFrontBar), (partOf bottom rightWall), (partOf bottom leftWall), (partOf bottom top), (partOf bottom shelfLower), (partOf bottom shelfUpper), (partOf top tabletop), (partOf top upperRightPost), (partOf top upperLeftPost), (partOf top lowerLeftPost), (partOf top lowerRightPost), (partOf top topLeftBar), (partOf top topMiddleBar), (partOf top topRightBar), (partOf top topBackBar), (partOf top topFrontBar), (partOf top rightWall), (partOf top leftWall), (partOf top bottom), (partOf top shelfLower), (partOf top shelfUpper), (partOf shelfLower tabletop), (partOf shelfLower upperRightPost), (partOf shelfLower upperLeftPost), (partOf shelfLower lowerLeftPost), (partOf shelfLower lowerRightPost), (partOf shelfLower topLeftBar), (partOf shelfLower topMiddleBar), (partOf shelfLower topRightBar), (partOf shelfLower topBackBar), (partOf shelfLower topFrontBar), (partOf shelfLower rightWall), (partOf shelfLower leftWall), (partOf shelfLower bottom), (partOf shelfLower top), (partOf shelfLower shelfUpper), (partOf shelfUpper tabletop), (partOf shelfUpper upperRightPost), (partOf shelfUpper upperLeftPost), (partOf shelfUpper lowerLeftPost), (partOf shelfUpper lowerRightPost), (partOf shelfUpper topLeftBar), (partOf shelfUpper topMiddleBar), (partOf shelfUpper topRightBar), (partOf shelfUpper topBackBar), (partOf shelfUpper topFrontBar), (partOf shelfUpper rightWall), (partOf shelfUpper leftWall), (partOf shelfUpper bottom), (partOf shelfUpper top), (partOf shelfUpper shelfLower), (on obj0 tabletop), (on obj1 tabletop), (on obj2 tabletop), (on obj3 tabletop), (on obj4 tabletop), }'}"
      ]
     },
     "execution_count": 3,
     "metadata": {},
     "output_type": "execute_result"
    }
   ],
   "source": [
    "lgp = K.lgp(\"../models/fol-pickAndPlace.g\")\n",
    "lgp.nodeInfo()"
   ]
  },
  {
   "cell_type": "code",
   "execution_count": 4,
   "metadata": {},
   "outputs": [
    {
     "data": {
      "text/plain": [
       "['(grasp endeff obj0)',\n",
       " '(grasp endeff obj1)',\n",
       " '(grasp endeff obj2)',\n",
       " '(grasp endeff obj3)',\n",
       " '(grasp endeff obj4)']"
      ]
     },
     "execution_count": 4,
     "metadata": {},
     "output_type": "execute_result"
    }
   ],
   "source": [
    "lgp.getDecisions()"
   ]
  },
  {
   "cell_type": "code",
   "execution_count": 5,
   "metadata": {},
   "outputs": [],
   "source": [
    "import time\n",
    "\n",
    "lgp.addTerminalRule(\"(on obj0 bottom) (on obj1 shelfLower) (on obj2 bottom) (on obj3 shelfUpper) (on obj4 bottom)\")\n",
    "lgp.run(2)\n",
    "while (lgp.numSolutions() < 3):\n",
    "    time.sleep(1)\n",
    "\n",
    "lgp.stop()"
   ]
  },
  {
   "cell_type": "code",
   "execution_count": 6,
   "metadata": {},
   "outputs": [
    {
     "data": {
      "text/plain": [
       "2"
      ]
     },
     "execution_count": 6,
     "metadata": {},
     "output_type": "execute_result"
    }
   ],
   "source": [
    "lgp.numSolutions()"
   ]
  },
  {
   "cell_type": "code",
   "execution_count": 7,
   "metadata": {
    "scrolled": true
   },
   "outputs": [
    {
     "data": {
      "text/plain": [
       "[{'description': 'qItself:ALL',\n",
       "  'scale': 0.01,\n",
       "  'sos_value': 6.863697475950466,\n",
       "  'type': 'sos'},\n",
       " {'feature': 'Transition',\n",
       "  'scale': 0.01,\n",
       "  'sos_value': 0.5866553978765654,\n",
       "  'type': 'sos'},\n",
       " {'description': 'QuaternionNorms',\n",
       "  'scale': 3.0,\n",
       "  'sos_value': 3.0464971270421334e-11,\n",
       "  'type': 'sos'},\n",
       " {'description': 'TM_NoJumpToParent-1-obj0',\n",
       "  'eq_sumOfAbs': 3.225977599668334e-06,\n",
       "  'scale': 100.0,\n",
       "  'type': 'eq'},\n",
       " {'description': 'TM_NoJumpToParent-1-obj0',\n",
       "  'eq_sumOfAbs': 0.0,\n",
       "  'scale': 100.0,\n",
       "  'type': 'eq'},\n",
       " {'eq_sumOfAbs': 0.00011630278764720309,\n",
       "  'feature': 'dist',\n",
       "  'o1': 'endeff',\n",
       "  'o2': 'obj0',\n",
       "  'scale': 100.0,\n",
       "  'type': 'eq'},\n",
       " {'feature': 'above',\n",
       "  'o1': 'obj0',\n",
       "  'o2': 'bottom',\n",
       "  'scale': 10.0,\n",
       "  'type': 'ineq'},\n",
       " {'eq_sumOfAbs': 2.0816681711721685e-17,\n",
       "  'feature': 'ProxyCost',\n",
       "  'scale': 10.0,\n",
       "  'type': 'eq'}]"
      ]
     },
     "execution_count": 7,
     "metadata": {},
     "output_type": "execute_result"
    }
   ],
   "source": [
    "lgp.getReport(0, BT.seq)"
   ]
  },
  {
   "cell_type": "code",
   "execution_count": 7,
   "metadata": {},
   "outputs": [],
   "source": [
    "komo = lgp.getKOMO(0, BT.seqPath)\n",
    "joints = K.getJointNames()\n",
    "\n",
    "\n"
   ]
  },
  {
   "cell_type": "code",
   "execution_count": 9,
   "metadata": {
    "scrolled": true
   },
   "outputs": [
    {
     "name": "stdout",
     "output_type": "stream",
     "text": [
      "25\n"
     ]
    }
   ],
   "source": [
    "T = komo.getT()\n",
    "print(T)"
   ]
  },
  {
   "cell_type": "code",
   "execution_count": 10,
   "metadata": {
    "scrolled": true
   },
   "outputs": [
    {
     "name": "stdout",
     "output_type": "stream",
     "text": [
      "[[ 0.00000000e+00  0.00000000e+00  0.00000000e+00 -1.75001000e+00\n",
      "   0.00000000e+00  1.00001000e+00  0.00000000e+00  7.00000000e-02]\n",
      " [ 4.00329884e-03  2.84557240e-02 -1.23907446e-03 -1.74921590e+00\n",
      "  -1.26923306e-02  9.80901996e-01  4.38578097e-03  7.00000000e-02]\n",
      " [ 1.10355521e-02  8.14914612e-02 -4.16472054e-03 -1.75180184e+00\n",
      "  -3.48400466e-02  9.35610221e-01  1.26862257e-02  7.00000000e-02]\n",
      " [ 2.01345929e-02  1.55161708e-01 -9.16599288e-03 -1.76152243e+00\n",
      "  -6.32807145e-02  8.57820836e-01  2.43715194e-02  7.00000000e-02]\n",
      " [ 3.02945610e-02  2.45151403e-01 -1.64549354e-02 -1.78121858e+00\n",
      "  -9.49040742e-02  7.43389727e-01  3.86941984e-02  7.00000000e-02]\n",
      " [ 4.04812888e-02  3.46461986e-01 -2.59631899e-02 -1.81222661e+00\n",
      "  -1.26725231e-01  5.92145609e-01  5.46037849e-02  7.00000000e-02]\n",
      " [ 4.96755866e-02  4.53082471e-01 -3.72143692e-02 -1.85380917e+00\n",
      "  -1.56001263e-01  4.09771069e-01  7.07171485e-02  7.00000000e-02]\n",
      " [ 5.69638913e-02  5.57731441e-01 -4.92221435e-02 -1.90274208e+00\n",
      "  -1.80388797e-01  2.09325587e-01  8.53778703e-02  7.00000000e-02]\n",
      " [ 6.16727104e-02  6.51755804e-01 -6.04685163e-02 -1.95318974e+00\n",
      "  -1.98110657e-01  1.19018101e-02  9.68045349e-02  7.00000000e-02]\n",
      " [ 6.35261052e-02  7.25259652e-01 -6.90151376e-02 -1.99696637e+00\n",
      "  -2.08090631e-01 -1.54049055e-01  1.03305470e-01  7.00000000e-02]\n",
      " [ 6.27908957e-02  7.67484998e-01 -7.27723591e-02 -2.02419084e+00\n",
      "  -2.10026544e-01 -2.54754136e-01  1.03523272e-01  7.00000000e-02]\n",
      " [ 6.03749662e-02  7.67363884e-01 -6.98893714e-02 -2.02419111e+00\n",
      "  -2.04408982e-01 -2.54386437e-01  9.66739010e-02  7.00000000e-02]\n",
      " [ 5.54142161e-02  7.80880066e-01 -6.04104128e-02 -1.95822837e+00\n",
      "  -1.92100891e-01 -1.88655833e-01  7.84268814e-02  0.00000000e+00]\n",
      " [ 4.68247019e-02  8.05645263e-01 -4.59191535e-02 -1.84685513e+00\n",
      "  -1.71631483e-01 -8.59681226e-02  4.96873067e-02  0.00000000e+00]\n",
      " [ 3.45011039e-02  8.38951810e-01 -2.85715701e-02 -1.71010312e+00\n",
      "  -1.42872091e-01  2.76040101e-02  1.25673290e-02  0.00000000e+00]\n",
      " [ 1.94705239e-02  8.77277689e-01 -1.08971022e-02 -1.56700291e+00\n",
      "  -1.07316067e-01  1.31564745e-01 -2.95894252e-02  0.00000000e+00]\n",
      " [ 3.90588591e-03  9.16119740e-01  4.41554887e-03 -1.43543361e+00\n",
      "  -6.82011526e-02  2.13071966e-01 -7.22603043e-02  0.00000000e+00]\n",
      " [-9.05485743e-03  9.50319878e-01  1.46300769e-02 -1.33235952e+00\n",
      "  -3.04033758e-02  2.66790033e-01 -1.10185835e-01  0.00000000e+00]\n",
      " [-1.55562882e-02  9.74822753e-01  1.72881313e-02 -1.27433213e+00\n",
      "  -7.89161162e-05  2.92932474e-01 -1.37781458e-01  0.00000000e+00]\n",
      " [-1.15616580e-02  9.74803187e-01  1.04132654e-02 -1.27428766e+00\n",
      "   1.59273328e-02  2.93005912e-01 -1.49763454e-01  0.00000000e+00]\n",
      " [-7.55668652e-03  9.75340047e-01  5.16125354e-03 -1.27413562e+00\n",
      "   2.56949423e-02  2.91730528e-01 -1.46988932e-01  0.00000000e+00]\n",
      " [-4.02254669e-03  9.76011542e-01  1.53826058e-03 -1.27437485e+00\n",
      "   3.03418300e-02  2.89874911e-01 -1.32258282e-01  0.00000000e+00]\n",
      " [-1.30154871e-03  9.76579172e-01 -5.23101743e-04 -1.27522577e+00\n",
      "   3.14276185e-02  2.87183391e-01 -1.08251598e-01  0.00000000e+00]\n",
      " [ 5.34342217e-04  9.77024027e-01 -1.22645214e-03 -1.27667530e+00\n",
      "   3.05105841e-02  2.83256708e-01 -7.80572307e-02  0.00000000e+00]\n",
      " [ 1.64556934e-03  9.77397864e-01 -1.03226941e-03 -1.27854444e+00\n",
      "   2.87474776e-02  2.78163181e-01 -4.45258222e-02  0.00000000e+00]\n",
      " [ 2.42993863e-03  9.77748187e-01 -4.56245850e-04 -1.28059393e+00\n",
      "   2.67712160e-02  2.72463237e-01 -9.81464878e-03  0.00000000e+00]]\n",
      "[0.07 0.07 0.07 0.07 0.07 0.07 0.07 0.07 0.07 0.07 0.07 0.07 0.   0.\n",
      " 0.   0.   0.   0.   0.   0.   0.   0.   0.   0.   0.   0.  ]\n",
      "[[ 0.00000000e+00  0.00000000e+00  0.00000000e+00 -1.75001000e+00\n",
      "   0.00000000e+00  1.00001000e+00  0.00000000e+00]\n",
      " [ 4.00329884e-03  2.84557240e-02 -1.23907446e-03 -1.74921590e+00\n",
      "  -1.26923306e-02  9.80901996e-01  4.38578097e-03]\n",
      " [ 1.10355521e-02  8.14914612e-02 -4.16472054e-03 -1.75180184e+00\n",
      "  -3.48400466e-02  9.35610221e-01  1.26862257e-02]\n",
      " [ 2.01345929e-02  1.55161708e-01 -9.16599288e-03 -1.76152243e+00\n",
      "  -6.32807145e-02  8.57820836e-01  2.43715194e-02]\n",
      " [ 3.02945610e-02  2.45151403e-01 -1.64549354e-02 -1.78121858e+00\n",
      "  -9.49040742e-02  7.43389727e-01  3.86941984e-02]\n",
      " [ 4.04812888e-02  3.46461986e-01 -2.59631899e-02 -1.81222661e+00\n",
      "  -1.26725231e-01  5.92145609e-01  5.46037849e-02]\n",
      " [ 4.96755866e-02  4.53082471e-01 -3.72143692e-02 -1.85380917e+00\n",
      "  -1.56001263e-01  4.09771069e-01  7.07171485e-02]\n",
      " [ 5.69638913e-02  5.57731441e-01 -4.92221435e-02 -1.90274208e+00\n",
      "  -1.80388797e-01  2.09325587e-01  8.53778703e-02]\n",
      " [ 6.16727104e-02  6.51755804e-01 -6.04685163e-02 -1.95318974e+00\n",
      "  -1.98110657e-01  1.19018101e-02  9.68045349e-02]\n",
      " [ 6.35261052e-02  7.25259652e-01 -6.90151376e-02 -1.99696637e+00\n",
      "  -2.08090631e-01 -1.54049055e-01  1.03305470e-01]\n",
      " [ 6.27908957e-02  7.67484998e-01 -7.27723591e-02 -2.02419084e+00\n",
      "  -2.10026544e-01 -2.54754136e-01  1.03523272e-01]\n",
      " [ 6.03749662e-02  7.67363884e-01 -6.98893714e-02 -2.02419111e+00\n",
      "  -2.04408982e-01 -2.54386437e-01  9.66739010e-02]\n",
      " [ 5.54142161e-02  7.80880066e-01 -6.04104128e-02 -1.95822837e+00\n",
      "  -1.92100891e-01 -1.88655833e-01  7.84268814e-02]\n",
      " [ 4.68247019e-02  8.05645263e-01 -4.59191535e-02 -1.84685513e+00\n",
      "  -1.71631483e-01 -8.59681226e-02  4.96873067e-02]\n",
      " [ 3.45011039e-02  8.38951810e-01 -2.85715701e-02 -1.71010312e+00\n",
      "  -1.42872091e-01  2.76040101e-02  1.25673290e-02]\n",
      " [ 1.94705239e-02  8.77277689e-01 -1.08971022e-02 -1.56700291e+00\n",
      "  -1.07316067e-01  1.31564745e-01 -2.95894252e-02]\n",
      " [ 3.90588591e-03  9.16119740e-01  4.41554887e-03 -1.43543361e+00\n",
      "  -6.82011526e-02  2.13071966e-01 -7.22603043e-02]\n",
      " [-9.05485743e-03  9.50319878e-01  1.46300769e-02 -1.33235952e+00\n",
      "  -3.04033758e-02  2.66790033e-01 -1.10185835e-01]\n",
      " [-1.55562882e-02  9.74822753e-01  1.72881313e-02 -1.27433213e+00\n",
      "  -7.89161162e-05  2.92932474e-01 -1.37781458e-01]\n",
      " [-1.15616580e-02  9.74803187e-01  1.04132654e-02 -1.27428766e+00\n",
      "   1.59273328e-02  2.93005912e-01 -1.49763454e-01]\n",
      " [-7.55668652e-03  9.75340047e-01  5.16125354e-03 -1.27413562e+00\n",
      "   2.56949423e-02  2.91730528e-01 -1.46988932e-01]\n",
      " [-4.02254669e-03  9.76011542e-01  1.53826058e-03 -1.27437485e+00\n",
      "   3.03418300e-02  2.89874911e-01 -1.32258282e-01]\n",
      " [-1.30154871e-03  9.76579172e-01 -5.23101743e-04 -1.27522577e+00\n",
      "   3.14276185e-02  2.87183391e-01 -1.08251598e-01]\n",
      " [ 5.34342217e-04  9.77024027e-01 -1.22645214e-03 -1.27667530e+00\n",
      "   3.05105841e-02  2.83256708e-01 -7.80572307e-02]\n",
      " [ 1.64556934e-03  9.77397864e-01 -1.03226941e-03 -1.27854444e+00\n",
      "   2.87474776e-02  2.78163181e-01 -4.45258222e-02]\n",
      " [ 2.42993863e-03  9.77748187e-01 -4.56245850e-04 -1.28059393e+00\n",
      "   2.67712160e-02  2.72463237e-01 -9.81464878e-03]]\n"
     ]
    }
   ],
   "source": [
    "import numpy as np\n",
    "waypoints = []\n",
    "for i in range(-1, T):\n",
    "    X = komo.getConfiguration(i)\n",
    "    K.setFrameState(X)\n",
    "    joints = K.getJointState()\n",
    "    if (joints[7] < 0.05):\n",
    "        joints[7] = 0.00\n",
    "    else:\n",
    "        joints[7] = 0.07\n",
    "    waypoints = np.append(waypoints, np.array([joints]))\n",
    "wp = np.array(waypoints).reshape(T+1,8)\n",
    "print(wp)\n",
    "print(wp[:,-1])\n",
    "print(wp[:,0:7])\n",
    "np.save(\"wp.npy\", wp)"
   ]
  },
  {
   "cell_type": "code",
   "execution_count": null,
   "metadata": {},
   "outputs": [],
   "source": [
    "komo.activateCollisionPairs([('obj0', 'bottom')])\n",
    "komo.optimize()"
   ]
  },
  {
   "cell_type": "code",
   "execution_count": 11,
   "metadata": {},
   "outputs": [
    {
     "data": {
      "text/plain": [
       "array([-0.00417812,  0.44569367,  0.00230998, -1.47846373,  0.02704303,\n",
       "        0.52275213,  0.0055884 ,  0.04518039])"
      ]
     },
     "execution_count": 11,
     "metadata": {},
     "output_type": "execute_result"
    }
   ],
   "source": [
    "K.getJointState()"
   ]
  },
  {
   "cell_type": "code",
   "execution_count": 10,
   "metadata": {},
   "outputs": [
    {
     "ename": "RuntimeError",
     "evalue": "array.tpp:operator():830(-2) CHECK failed: 'nd==3 && (uint)i<d0 && (uint)j<d1 && (uint)k<d2 && !isSparseMatrix(*this)' 3D range error (3=3, 805<806, 0<0, 0<3)",
     "output_type": "error",
     "traceback": [
      "\u001b[0;31m---------------------------------------------------------------------------\u001b[0m",
      "\u001b[0;31mRuntimeError\u001b[0m                              Traceback (most recent call last)",
      "\u001b[0;32m<ipython-input-10-b4369dcab8dd>\u001b[0m in \u001b[0;36m<module>\u001b[0;34m\u001b[0m\n\u001b[0;32m----> 1\u001b[0;31m \u001b[0mkomo\u001b[0m\u001b[0;34m.\u001b[0m\u001b[0mdisplayTrajectory\u001b[0m\u001b[0;34m(\u001b[0m\u001b[0;34m)\u001b[0m\u001b[0;34m\u001b[0m\u001b[0m\n\u001b[0m",
      "\u001b[0;31mRuntimeError\u001b[0m: array.tpp:operator():830(-2) CHECK failed: 'nd==3 && (uint)i<d0 && (uint)j<d1 && (uint)k<d2 && !isSparseMatrix(*this)' 3D range error (3=3, 805<806, 0<0, 0<3)"
     ]
    }
   ],
   "source": [
    "komo.displayTrajectory()"
   ]
  },
  {
   "cell_type": "code",
   "execution_count": null,
   "metadata": {},
   "outputs": [],
   "source": [
    "lgp.stop()"
   ]
  },
  {
   "cell_type": "code",
   "execution_count": 9,
   "metadata": {},
   "outputs": [],
   "source": [
    "K = 0"
   ]
  },
  {
   "cell_type": "code",
   "execution_count": 10,
   "metadata": {},
   "outputs": [],
   "source": [
    "V = 0"
   ]
  },
  {
   "cell_type": "code",
   "execution_count": null,
   "metadata": {},
   "outputs": [],
   "source": []
  }
 ],
 "metadata": {
  "kernelspec": {
   "display_name": "Python 3",
   "language": "python",
   "name": "python3"
  },
  "language_info": {
   "codemirror_mode": {
    "name": "ipython",
    "version": 3
   },
   "file_extension": ".py",
   "mimetype": "text/x-python",
   "name": "python",
   "nbconvert_exporter": "python",
   "pygments_lexer": "ipython3",
   "version": "3.5.2"
  }
 },
 "nbformat": 4,
 "nbformat_minor": 2
}
