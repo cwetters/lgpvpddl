{
 "cells": [
  {
   "cell_type": "code",
   "execution_count": 1,
   "metadata": {},
   "outputs": [],
   "source": [
    "import sys\n",
    "sys.path.append('../ry')\n",
    "from libry import *\n",
    "from numpy import *"
   ]
  },
  {
   "cell_type": "code",
   "execution_count": 22,
   "metadata": {},
   "outputs": [],
   "source": [
    "K = Config()\n",
    "K.addFile('../rai-robotModels/kuka_drake/setup.g')\n",
    "K.addFile(\"../models/mainipulationStation.g\")\n",
    "\n",
    "K.addFrame(\"obj0\", \"tabletop\", \"type:ssBox size:[.075 .05 .05 .02] color:[1. 0. 0.], contact, logical={ object }, joint:rigid, Q:<t(-0.3 0 0.07)>\" )\n",
    "q = [0,0,0,0,0,0,0,0.01]\n",
    "K.setJointState(q)\n",
    "D = K.view()"
   ]
  },
  {
   "cell_type": "code",
   "execution_count": 18,
   "metadata": {},
   "outputs": [
    {
     "data": {
      "text/plain": [
       "[('iiwa_link_5_0', 'topMiddleBar', -0.0214273194635276),\n",
       " ('iiwa_link_6_0', 'topMiddleBar', -0.08899914158774165)]"
      ]
     },
     "execution_count": 18,
     "metadata": {},
     "output_type": "execute_result"
    }
   ],
   "source": [
    "coll = K.feature(FS.accumulatedCollisions, [])\n",
    "K.computeCollisions()\n",
    "coll.eval(K)\n",
    "K.getCollisions(0)"
   ]
  },
  {
   "cell_type": "code",
   "execution_count": null,
   "metadata": {},
   "outputs": [],
   "source": [
    "# aha, we are in collision, let's get more details\n",
    "K.getCollisions(0)"
   ]
  },
  {
   "cell_type": "code",
   "execution_count": 6,
   "metadata": {},
   "outputs": [],
   "source": [
    "# aha, the secutive links are not excluded from collision checking\n",
    "# the fix is to define change the 'contact' attributes in kuka.g by 'contact:-1' or -2 or -3\n",
    "# that says that contacts with shapes that are just one down the tree are excluded"
   ]
  },
  {
   "cell_type": "code",
   "execution_count": 23,
   "metadata": {},
   "outputs": [],
   "source": [
    "K=0\n",
    "D=0"
   ]
  },
  {
   "cell_type": "code",
   "execution_count": null,
   "metadata": {},
   "outputs": [],
   "source": []
  }
 ],
 "metadata": {
  "kernelspec": {
   "display_name": "Python 3",
   "language": "python",
   "name": "python3"
  },
  "language_info": {
   "codemirror_mode": {
    "name": "ipython",
    "version": 3
   },
   "file_extension": ".py",
   "mimetype": "text/x-python",
   "name": "python",
   "nbconvert_exporter": "python",
   "pygments_lexer": "ipython3",
   "version": "3.5.2"
  }
 },
 "nbformat": 4,
 "nbformat_minor": 2
}
